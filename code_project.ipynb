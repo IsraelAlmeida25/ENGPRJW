{
 "cells": [
  {
   "cell_type": "markdown",
   "metadata": {
    "vscode": {
     "languageId": "r"
    }
   },
   "source": [
    "## My Project"
   ]
  },
  {
   "cell_type": "markdown",
   "metadata": {},
   "source": []
  },
  {
   "cell_type": "code",
   "execution_count": 1,
   "metadata": {},
   "outputs": [
    {
     "ename": "SyntaxError",
     "evalue": "invalid syntax (1467015421.py, line 1)",
     "output_type": "error",
     "traceback": [
      "\u001b[1;36m  File \u001b[1;32m\"C:\\Users\\user\\AppData\\Local\\Temp\\ipykernel_23972\\1467015421.py\"\u001b[1;36m, line \u001b[1;32m1\u001b[0m\n\u001b[1;33m    IRkernel::installspec()\u001b[0m\n\u001b[1;37m             ^\u001b[0m\n\u001b[1;31mSyntaxError\u001b[0m\u001b[1;31m:\u001b[0m invalid syntax\n"
     ]
    }
   ],
   "source": [
    "IRkernel::installspec()"
   ]
  },
  {
   "cell_type": "code",
   "execution_count": 1,
   "metadata": {},
   "outputs": [
    {
     "ename": "NameError",
     "evalue": "name 'library' is not defined",
     "output_type": "error",
     "traceback": [
      "\u001b[1;31m---------------------------------------------------------------------------\u001b[0m",
      "\u001b[1;31mNameError\u001b[0m                                 Traceback (most recent call last)",
      "Cell \u001b[1;32mIn[1], line 1\u001b[0m\n\u001b[1;32m----> 1\u001b[0m \u001b[43mlibrary\u001b[49m(ggplot2)\n",
      "\u001b[1;31mNameError\u001b[0m: name 'library' is not defined"
     ]
    }
   ],
   "source": [
    "library(ggplot2)"
   ]
  },
  {
   "cell_type": "markdown",
   "metadata": {},
   "source": []
  },
  {
   "cell_type": "code",
   "execution_count": 2,
   "metadata": {},
   "outputs": [],
   "source": [
    "data <- read.csv('songs_normalize.csv')"
   ]
  },
  {
   "cell_type": "code",
   "execution_count": 9,
   "metadata": {},
   "outputs": [],
   "source": [
    "# Import your dataset\n",
    "# Replace 'songs_normalize.csv' with the path to your dataset file\n",
    "artists_data <- read.csv(\"songs_normalize.csv\", stringsAsFactors = FALSE)  # Ensure strings are not converted to factors\n",
    "\n",
    "# Convert 'year' to numeric\n",
    "artists_data$year <- as.numeric(as.character(artists_data$year))\n",
    "\n",
    "# Filtering the dataset for only 'Male' and 'Female'\n",
    "artists_data <- artists_data[artists_data$gender %in% c(\"Male\", \"Female\"), ]\n",
    "\n",
    "# Check and remove any rows with NA values, especially after conversion\n",
    "artists_data <- na.omit(artists_data)\n",
    "\n",
    "# Data transformation and plotting preparation\n",
    "gender_distribution <- table(artists_data$year, artists_data$gender)\n",
    "gender_distribution_df <- as.data.frame(gender_distribution)\n",
    "names(gender_distribution_df) <- c(\"year\", \"gender\", \"count\")\n",
    "\n",
    "totals <- aggregate(count ~ year, data = gender_distribution_df, FUN = sum)\n",
    "merged_data <- merge(gender_distribution_df, totals, by = \"year\")\n",
    "names(merged_data)[names(merged_data) == \"count.x\"] <- \"count\"\n",
    "names(merged_data)[names(merged_data) == \"count.y\"] <- \"total\"\n",
    "merged_data$percentage <- with(merged_data, (count / total) * 100)"
   ]
  },
  {
   "cell_type": "code",
   "execution_count": 11,
   "metadata": {},
   "outputs": [
    {
     "data": {
      "image/png": "[encoded data removed]",
      "text/plain": [
       "Plot with title \"Gender Distribution of Artists Over Years\""
      ]
     },
     "metadata": {},
     "output_type": "display_data"
    }
   ],
   "source": [
    "\n",
    "# Use the first gender to establish the plot\n",
    "first_gender_data <- merged_data[merged_data$gender == \"Male\", ]\n",
    "plot(first_gender_data$year, first_gender_data$percentage, type = \"b\", pch = 19, lty = 1,\n",
    "     col = \"blue\", ylim = c(0, max(merged_data$percentage)), xlim = range(merged_data$year),\n",
    "     xlab = \"Year\", ylab = \"Percentage\", main = \"Gender Distribution of Artists Over Years\")\n",
    "\n",
    "# Add the second gender\n",
    "second_gender_data <- merged_data[merged_data$gender == \"Female\", ]\n",
    "lines(second_gender_data$year, second_gender_data$percentage, type = \"b\", pch = 19, lty = 1, col = \"red\")\n",
    "\n",
    "# Add a legend\n",
    "legend(\"topright\", legend = c(\"Male\", \"Female\"), col = c(\"blue\", \"red\"), lty = 1, pch = 19)"
   ]
  },
  {
   "cell_type": "code",
   "execution_count": 3,
   "metadata": {},
   "outputs": [
    {
     "data": {
      "text/html": [
       "<table>\n",
       "<thead><tr><th scope=col>artist</th><th scope=col>song</th><th scope=col>duration_ms</th><th scope=col>explicit</th><th scope=col>year</th><th scope=col>popularity</th><th scope=col>danceability</th><th scope=col>energy</th><th scope=col>key</th><th scope=col>loudness</th><th scope=col>mode</th><th scope=col>speechiness</th><th scope=col>acousticness</th><th scope=col>instrumentalness</th><th scope=col>liveness</th><th scope=col>valence</th><th scope=col>tempo</th><th scope=col>genre</th><th scope=col>Gender</th></tr></thead>\n",
       "<tbody>\n",
       "\t<tr><td>Britney Spears        </td><td>Oops!...I Did It Again</td><td>211160                </td><td>FALSE                 </td><td>2000                  </td><td>77                    </td><td>0.751                 </td><td>0.834                 </td><td>1                     </td><td>-5.444                </td><td>0                     </td><td>0.0437                </td><td>0.3000                </td><td>1.77e-05              </td><td>0.3550                </td><td>0.894                 </td><td> 95.053               </td><td>pop                   </td><td>Female                </td></tr>\n",
       "\t<tr><td>blink-182             </td><td>All The Small Things  </td><td>167066                </td><td>FALSE                 </td><td>1999                  </td><td>79                    </td><td>0.434                 </td><td>0.897                 </td><td>0                     </td><td>-4.918                </td><td>1                     </td><td>0.0488                </td><td>0.0103                </td><td>0.00e+00              </td><td>0.6120                </td><td>0.684                 </td><td>148.726               </td><td>rock, pop             </td><td>Male                  </td></tr>\n",
       "\t<tr><td>Faith Hill            </td><td>Breathe               </td><td>250546                </td><td>FALSE                 </td><td>1999                  </td><td>66                    </td><td>0.529                 </td><td>0.496                 </td><td>7                     </td><td>-9.007                </td><td>1                     </td><td>0.0290                </td><td>0.1730                </td><td>0.00e+00              </td><td>0.2510                </td><td>0.278                 </td><td>136.859               </td><td>pop, country          </td><td>Female                </td></tr>\n",
       "\t<tr><td>Bon Jovi              </td><td>It's My Life          </td><td>224493                </td><td>FALSE                 </td><td>2000                  </td><td>78                    </td><td>0.551                 </td><td>0.913                 </td><td>0                     </td><td>-4.063                </td><td>0                     </td><td>0.0466                </td><td>0.0263                </td><td>1.35e-05              </td><td>0.3470                </td><td>0.544                 </td><td>119.992               </td><td>rock, metal           </td><td>Male                  </td></tr>\n",
       "\t<tr><td>*NSYNC                </td><td>Bye Bye Bye           </td><td>200560                </td><td>FALSE                 </td><td>2000                  </td><td>65                    </td><td>0.614                 </td><td>0.928                 </td><td>8                     </td><td>-4.806                </td><td>0                     </td><td>0.0516                </td><td>0.0408                </td><td>1.04e-03              </td><td>0.0845                </td><td>0.879                 </td><td>172.656               </td><td>pop                   </td><td>Male                  </td></tr>\n",
       "\t<tr><td><span style=white-space:pre-wrap>Sisqo         </span>        </td><td><span style=white-space:pre-wrap>Thong Song            </span></td><td>253733                                                        </td><td> TRUE                                                         </td><td>1999                                                          </td><td>69                                                            </td><td>0.706                                                         </td><td>0.888                                                         </td><td>2                                                             </td><td>-6.959                                                        </td><td>1                                                             </td><td>0.0654                                                        </td><td>0.1190                                                        </td><td>9.64e-05                                                      </td><td>0.0700                                                        </td><td>0.714                                                         </td><td>121.549                                                       </td><td>hip hop, pop, R&amp;B                                         </td><td><span style=white-space:pre-wrap>Male  </span>                </td></tr>\n",
       "</tbody>\n",
       "</table>\n"
      ],
      "text/latex": [
       "\\begin{tabular}{r|lllllllllllllllllll}\n",
       " artist & song & duration\\_ms & explicit & year & popularity & danceability & energy & key & loudness & mode & speechiness & acousticness & instrumentalness & liveness & valence & tempo & genre & Gender\\\\\n",
       "\\hline\n",
       "\t Britney Spears         & Oops!...I Did It Again & 211160                 & FALSE                  & 2000                   & 77                     & 0.751                  & 0.834                  & 1                      & -5.444                 & 0                      & 0.0437                 & 0.3000                 & 1.77e-05               & 0.3550                 & 0.894                  &  95.053                & pop                    & Female                \\\\\n",
       "\t blink-182              & All The Small Things   & 167066                 & FALSE                  & 1999                   & 79                     & 0.434                  & 0.897                  & 0                      & -4.918                 & 1                      & 0.0488                 & 0.0103                 & 0.00e+00               & 0.6120                 & 0.684                  & 148.726                & rock, pop              & Male                  \\\\\n",
       "\t Faith Hill             & Breathe                & 250546                 & FALSE                  & 1999                   & 66                     & 0.529                  & 0.496                  & 7                      & -9.007                 & 1                      & 0.0290                 & 0.1730                 & 0.00e+00               & 0.2510                 & 0.278                  & 136.859                & pop, country           & Female                \\\\\n",
       "\t Bon Jovi               & It's My Life           & 224493                 & FALSE                  & 2000                   & 78                     & 0.551                  & 0.913                  & 0                      & -4.063                 & 0                      & 0.0466                 & 0.0263                 & 1.35e-05               & 0.3470                 & 0.544                  & 119.992                & rock, metal            & Male                  \\\\\n",
       "\t *NSYNC                 & Bye Bye Bye            & 200560                 & FALSE                  & 2000                   & 65                     & 0.614                  & 0.928                  & 8                      & -4.806                 & 0                      & 0.0516                 & 0.0408                 & 1.04e-03               & 0.0845                 & 0.879                  & 172.656                & pop                    & Male                  \\\\\n",
       "\t Sisqo                  & Thong Song             & 253733                 &  TRUE                  & 1999                   & 69                     & 0.706                  & 0.888                  & 2                      & -6.959                 & 1                      & 0.0654                 & 0.1190                 & 9.64e-05               & 0.0700                 & 0.714                  & 121.549                & hip hop, pop, R\\&B    & Male                  \\\\\n",
       "\\end{tabular}\n"
      ],
      "text/markdown": [
       "\n",
       "| artist | song | duration_ms | explicit | year | popularity | danceability | energy | key | loudness | mode | speechiness | acousticness | instrumentalness | liveness | valence | tempo | genre | Gender |\n",
       "|---|---|---|---|---|---|---|---|---|---|---|---|---|---|---|---|---|---|---|\n",
       "| Britney Spears         | Oops!...I Did It Again | 211160                 | FALSE                  | 2000                   | 77                     | 0.751                  | 0.834                  | 1                      | -5.444                 | 0                      | 0.0437                 | 0.3000                 | 1.77e-05               | 0.3550                 | 0.894                  |  95.053                | pop                    | Female                 |\n",
       "| blink-182              | All The Small Things   | 167066                 | FALSE                  | 1999                   | 79                     | 0.434                  | 0.897                  | 0                      | -4.918                 | 1                      | 0.0488                 | 0.0103                 | 0.00e+00               | 0.6120                 | 0.684                  | 148.726                | rock, pop              | Male                   |\n",
       "| Faith Hill             | Breathe                | 250546                 | FALSE                  | 1999                   | 66                     | 0.529                  | 0.496                  | 7                      | -9.007                 | 1                      | 0.0290                 | 0.1730                 | 0.00e+00               | 0.2510                 | 0.278                  | 136.859                | pop, country           | Female                 |\n",
       "| Bon Jovi               | It's My Life           | 224493                 | FALSE                  | 2000                   | 78                     | 0.551                  | 0.913                  | 0                      | -4.063                 | 0                      | 0.0466                 | 0.0263                 | 1.35e-05               | 0.3470                 | 0.544                  | 119.992                | rock, metal            | Male                   |\n",
       "| *NSYNC                 | Bye Bye Bye            | 200560                 | FALSE                  | 2000                   | 65                     | 0.614                  | 0.928                  | 8                      | -4.806                 | 0                      | 0.0516                 | 0.0408                 | 1.04e-03               | 0.0845                 | 0.879                  | 172.656                | pop                    | Male                   |\n",
       "| Sisqo                  | Thong Song             | 253733                 |  TRUE                  | 1999                   | 69                     | 0.706                  | 0.888                  | 2                      | -6.959                 | 1                      | 0.0654                 | 0.1190                 | 9.64e-05               | 0.0700                 | 0.714                  | 121.549                | hip hop, pop, R&B      | Male                   |\n",
       "\n"
      ],
      "text/plain": [
       "  artist         song                   duration_ms explicit year popularity\n",
       "1 Britney Spears Oops!...I Did It Again 211160      FALSE    2000 77        \n",
       "2 blink-182      All The Small Things   167066      FALSE    1999 79        \n",
       "3 Faith Hill     Breathe                250546      FALSE    1999 66        \n",
       "4 Bon Jovi       It's My Life           224493      FALSE    2000 78        \n",
       "5 *NSYNC         Bye Bye Bye            200560      FALSE    2000 65        \n",
       "6 Sisqo          Thong Song             253733       TRUE    1999 69        \n",
       "  danceability energy key loudness mode speechiness acousticness\n",
       "1 0.751        0.834  1   -5.444   0    0.0437      0.3000      \n",
       "2 0.434        0.897  0   -4.918   1    0.0488      0.0103      \n",
       "3 0.529        0.496  7   -9.007   1    0.0290      0.1730      \n",
       "4 0.551        0.913  0   -4.063   0    0.0466      0.0263      \n",
       "5 0.614        0.928  8   -4.806   0    0.0516      0.0408      \n",
       "6 0.706        0.888  2   -6.959   1    0.0654      0.1190      \n",
       "  instrumentalness liveness valence tempo   genre             Gender\n",
       "1 1.77e-05         0.3550   0.894    95.053 pop               Female\n",
       "2 0.00e+00         0.6120   0.684   148.726 rock, pop         Male  \n",
       "3 0.00e+00         0.2510   0.278   136.859 pop, country      Female\n",
       "4 1.35e-05         0.3470   0.544   119.992 rock, metal       Male  \n",
       "5 1.04e-03         0.0845   0.879   172.656 pop               Male  \n",
       "6 9.64e-05         0.0700   0.714   121.549 hip hop, pop, R&B Male  "
      ]
     },
     "metadata": {},
     "output_type": "display_data"
    }
   ],
   "source": [
    "head(data)"
   ]
  },
  {
   "cell_type": "code",
   "execution_count": 16,
   "metadata": {},
   "outputs": [
    {
     "ename": "ERROR",
     "evalue": "Error in library(ggplot2): there is no package called 'ggplot2'\n",
     "output_type": "error",
     "traceback": [
      "Error in library(ggplot2): there is no package called 'ggplot2'\nTraceback:\n",
      "1. library(ggplot2)"
     ]
    }
   ],
   "source": []
  },
  {
   "cell_type": "code",
   "execution_count": null,
   "metadata": {},
   "outputs": [],
   "source": []
  }
 ],
 "metadata": {
  "kernelspec": {
   "display_name": "r4-base",
   "language": "python",
   "name": "python3"
  },
  "language_info": {
   "codemirror_mode": {
    "name": "ipython",
    "version": 3
   },
   "file_extension": ".py",
   "mimetype": "text/x-python",
   "name": "python",
   "nbconvert_exporter": "python",
   "pygments_lexer": "ipython3",
   "version": "3.7.1"
  }
 },
 "nbformat": 4,
 "nbformat_minor": 2
}
