{
 "cells": [
  {
   "cell_type": "code",
   "execution_count": 12,
   "metadata": {
    "vscode": {
     "languageId": "r"
    }
   },
   "outputs": [
    {
     "name": "stderr",
     "output_type": "stream",
     "text": [
      "Installing package into 'C:/Users/user/AppData/Local/R/win-library/4.3'\n",
      "(as 'lib' is unspecified)\n",
      "\n"
     ]
    },
    {
     "name": "stderr",
     "output_type": "stream",
     "text": [
      "Warning message in install.packages(\"http(s)://DSS_HOST:DSS_PORT/public/packages/dataiku_current.tar.gz\", :\n",
      "\"installation of package 'http(s)://DSS_HOST:DSS_PORT/public/packages/dataiku_current.tar.gz' had non-zero exit status\"\n"
     ]
    }
   ],
   "source": []
  },
  {
   "cell_type": "code",
   "execution_count": 3,
   "metadata": {
    "vscode": {
     "languageId": "r"
    }
   },
   "outputs": [
    {
     "name": "stderr",
     "output_type": "stream",
     "text": [
      "\n",
      "Attaching package: 'dplyr'\n",
      "\n",
      "\n",
      "The following objects are masked from 'package:stats':\n",
      "\n",
      "    filter, lag\n",
      "\n",
      "\n",
      "The following objects are masked from 'package:base':\n",
      "\n",
      "    intersect, setdiff, setequal, union\n",
      "\n",
      "\n",
      "Loading required package: zoo\n",
      "\n",
      "\n",
      "Attaching package: 'zoo'\n",
      "\n",
      "\n",
      "The following objects are masked from 'package:base':\n",
      "\n",
      "    as.Date, as.Date.numeric\n",
      "\n",
      "\n",
      "\n",
      "######################### Warning from 'xts' package ##########################\n",
      "#                                                                             #\n",
      "# The dplyr lag() function breaks how base R's lag() function is supposed to  #\n",
      "# work, which breaks lag(my_xts). Calls to lag(my_xts) that you type or       #\n",
      "# source() into this session won't work correctly.                            #\n",
      "#                                                                             #\n",
      "# Use stats::lag() to make sure you're not using dplyr::lag(), or you can add #\n",
      "# conflictRules('dplyr', exclude = 'lag') to your .Rprofile to stop           #\n",
      "# dplyr from breaking base R's lag() function.                                #\n",
      "#                                                                             #\n",
      "# Code in packages is not affected. It's protected by R's namespace mechanism #\n",
      "# Set `options(xts.warn_dplyr_breaks_lag = FALSE)` to suppress this warning.  #\n",
      "#                                                                             #\n",
      "###############################################################################\n",
      "\n",
      "\n",
      "Attaching package: 'xts'\n",
      "\n",
      "\n",
      "The following objects are masked from 'package:dplyr':\n",
      "\n",
      "    first, last\n",
      "\n",
      "\n",
      "── \u001b[1mAttaching core tidyverse packages\u001b[22m ──────────────────────── tidyverse 2.0.0 ──\n",
      "\u001b[32m✔\u001b[39m \u001b[34mforcats  \u001b[39m 1.0.0     \u001b[32m✔\u001b[39m \u001b[34mreadr    \u001b[39m 2.1.5\n",
      "\u001b[32m✔\u001b[39m \u001b[34mlubridate\u001b[39m 1.9.3     \u001b[32m✔\u001b[39m \u001b[34mstringr  \u001b[39m 1.5.1\n",
      "\u001b[32m✔\u001b[39m \u001b[34mpurrr    \u001b[39m 1.0.2     \u001b[32m✔\u001b[39m \u001b[34mtibble   \u001b[39m 3.2.1\n",
      "── \u001b[1mConflicts\u001b[22m ────────────────────────────────────────── tidyverse_conflicts() ──\n",
      "\u001b[31m✖\u001b[39m \u001b[34mdplyr\u001b[39m::\u001b[32mfilter()\u001b[39m masks \u001b[34mstats\u001b[39m::filter()\n",
      "\u001b[31m✖\u001b[39m \u001b[34mxts\u001b[39m::\u001b[32mfirst()\u001b[39m    masks \u001b[34mdplyr\u001b[39m::first()\n",
      "\u001b[31m✖\u001b[39m \u001b[34mdplyr\u001b[39m::\u001b[32mlag()\u001b[39m    masks \u001b[34mstats\u001b[39m::lag()\n",
      "\u001b[31m✖\u001b[39m \u001b[34mxts\u001b[39m::\u001b[32mlast()\u001b[39m     masks \u001b[34mdplyr\u001b[39m::last()\n",
      "\u001b[36mℹ\u001b[39m Use the conflicted package (\u001b[3m\u001b[34m<http://conflicted.r-lib.org/>\u001b[39m\u001b[23m) to force all conflicts to become errors\n"
     ]
    }
   ],
   "source": [
    "# Load necessary libraries\n",
    "library('ggplot2')\n",
    "library('dplyr')\n",
    "library('tidyr')\n",
    "library('hrbrthemes')\n",
    "library('dygraphs')\n",
    "library('xts')          # To make the convertion data-frame / xts format\n",
    "library('tidyverse')\n",
    "library('lubridate')\n"
   ]
  },
  {
   "cell_type": "code",
   "execution_count": 4,
   "metadata": {
    "vscode": {
     "languageId": "r"
    }
   },
   "outputs": [],
   "source": [
    "artists_data0 <- read.csv(\"songs_normalize.csv\")"
   ]
  },
  {
   "cell_type": "code",
   "execution_count": 15,
   "metadata": {
    "vscode": {
     "languageId": "r"
    }
   },
   "outputs": [
    {
     "name": "stdout",
     "output_type": "stream",
     "text": [
      "\u001b[90m# A tibble: 10 × 3\u001b[39m\n",
      "\u001b[90m# Groups:   gender [2]\u001b[39m\n",
      "   gender genre                 Artist_Count\n",
      "   \u001b[3m\u001b[90m<chr>\u001b[39m\u001b[23m  \u001b[3m\u001b[90m<chr>\u001b[39m\u001b[23m                        \u001b[3m\u001b[90m<int>\u001b[39m\u001b[23m\n",
      "\u001b[90m 1\u001b[39m Female pop                            206\n",
      "\u001b[90m 2\u001b[39m Female pop, R&B                       133\n",
      "\u001b[90m 3\u001b[39m Female hip hop, pop, R&B               80\n",
      "\u001b[90m 4\u001b[39m Female pop, Dance/Electronic           80\n",
      "\u001b[90m 5\u001b[39m Female hip hop, pop                    15\n",
      "\u001b[90m 6\u001b[39m Male   hip hop, pop                   260\n",
      "\u001b[90m 7\u001b[39m Male   pop                            210\n",
      "\u001b[90m 8\u001b[39m Male   hip hop, pop, R&B              160\n",
      "\u001b[90m 9\u001b[39m Male   pop, Dance/Electronic          139\n",
      "\u001b[90m10\u001b[39m Male   hip hop                        121\n"
     ]
    },
    {
     "ename": "ERROR",
     "evalue": "Error in scale_x_reordered(): could not find function \"scale_x_reordered\"\n",
     "output_type": "error",
     "traceback": [
      "Error in scale_x_reordered(): could not find function \"scale_x_reordered\"\nTraceback:\n"
     ]
    }
   ],
   "source": [
    "# Preprocessing: Standardize gender capitalization\n",
    "artists_data <- artists_data0 %>%\n",
    "  filter(year != 1998 ) %>%  # Remove entries from the year 1998\n",
    "  filter(year != 1999 ) %>%  # Remove entries from the year 1999\n",
    "  filter(year != 2020 ) %>%  # Remove entries from the year 2020\n",
    "  mutate(gender = case_when(\n",
    "    tolower(gender) == \"male\" ~ \"Male\",\n",
    "    tolower(gender) == \"female\" ~ \"Female\",\n",
    "    TRUE ~ as.character(gender) # Keeps original value if not \"male\" or \"female\"\n",
    "  ))\n",
    "\n",
    "genre_counts <- artists_data %>%\n",
    "  group_by(gender, genre) %>%\n",
    "  summarise(Artist_Count = n(), .groups = 'drop')  # Replace n() with count(distinct(artist)) if artists are not unique\n",
    "\n",
    "top_genres <- genre_counts %>%\n",
    "  arrange(gender, desc(Artist_Count)) %>%\n",
    "  group_by(gender) %>%\n",
    "  slice_head(n = 5)  # This selects the top 5 rows for each gender group\n",
    "\n",
    "print(top_genres)\n",
    "\n",
    "# Create separate barplots for Male and Female\n",
    "# Assuming top_genres is already calculated as per your snippet\n",
    "# Create separate barplots for Male and Female, with ordered bars and specific colors\n",
    "ggplot(top_genres, aes(x = reorder_within(genre, Artist_Count, gender), y = Artist_Count, fill = gender)) +\n",
    "  geom_bar(stat = \"identity\") +  # Use geom_bar and set stat to \"identity\" for pre-summarized counts\n",
    "  facet_wrap(~gender, scales = \"free_x\") +  # Separate plots for each gender\n",
    "  scale_x_reordered() +  # Helper function from 'ggplot2' to handle reordering within facets\n",
    "  labs(title = \"Top 5 Genres by Gender\",\n",
    "       x = \"Genre\",\n",
    "       y = \"Artist Count\") +\n",
    "  theme_minimal() +  # Minimal theme for a cleaner look\n",
    "  scale_fill_manual(values = c(\"Male\" = \"blue\", \"Female\" = \"red\")) +  # Specify colors for each gender\n",
    "  coord_flip() +  # Flip the coordinates to make the barplots horizontal\n",
    "  theme(axis.text.x = element_text(angle = 0, hjust = 1),  # Adjust text alignment and angle\n",
    "        legend.position = \"none\")  # Hide the legend if not needed"
   ]
  },
  {
   "cell_type": "code",
   "execution_count": 19,
   "metadata": {
    "vscode": {
     "languageId": "r"
    }
   },
   "outputs": [
    {
     "name": "stdout",
     "output_type": "stream",
     "text": [
      "\u001b[90m# A tibble: 40 × 3\u001b[39m\n",
      "    year gender Count\n",
      "   \u001b[3m\u001b[90m<int>\u001b[39m\u001b[23m \u001b[3m\u001b[90m<chr>\u001b[39m\u001b[23m  \u001b[3m\u001b[90m<int>\u001b[39m\u001b[23m\n",
      "\u001b[90m 1\u001b[39m  \u001b[4m2\u001b[24m000 Female    27\n",
      "\u001b[90m 2\u001b[39m  \u001b[4m2\u001b[24m000 Male      47\n",
      "\u001b[90m 3\u001b[39m  \u001b[4m2\u001b[24m001 Female    55\n",
      "\u001b[90m 4\u001b[39m  \u001b[4m2\u001b[24m001 Male      53\n",
      "\u001b[90m 5\u001b[39m  \u001b[4m2\u001b[24m002 Female    35\n",
      "\u001b[90m 6\u001b[39m  \u001b[4m2\u001b[24m002 Male      55\n",
      "\u001b[90m 7\u001b[39m  \u001b[4m2\u001b[24m003 Female    40\n",
      "\u001b[90m 8\u001b[39m  \u001b[4m2\u001b[24m003 Male      57\n",
      "\u001b[90m 9\u001b[39m  \u001b[4m2\u001b[24m004 Female    29\n",
      "\u001b[90m10\u001b[39m  \u001b[4m2\u001b[24m004 Male      67\n",
      "\u001b[90m# ℹ 30 more rows\u001b[39m\n"
     ]
    }
   ],
   "source": [
    "\n"
   ]
  },
  {
   "cell_type": "code",
   "execution_count": null,
   "metadata": {
    "vscode": {
     "languageId": "r"
    }
   },
   "outputs": [],
   "source": []
  }
 ],
 "metadata": {
  "kernelspec": {
   "display_name": "R",
   "language": "R",
   "name": "ir"
  },
  "language_info": {
   "codemirror_mode": "r",
   "file_extension": ".r",
   "mimetype": "text/x-r-source",
   "name": "R",
   "pygments_lexer": "r",
   "version": "4.3.3"
  }
 },
 "nbformat": 4,
 "nbformat_minor": 2
}
